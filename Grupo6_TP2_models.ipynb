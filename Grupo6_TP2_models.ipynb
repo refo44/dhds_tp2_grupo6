{
 "cells": [
  {
   "cell_type": "markdown",
   "metadata": {},
   "source": [
    "# GRUPO 6 TP2 PARTE 2 MODELOS DE REGRESION\n",
    "\n",
    "\n",
    "- Laura Andrea Martínez Cardona\n",
    "- Rafael Eduardo Figueredo Oropeza\n"
   ]
  },
  {
   "cell_type": "code",
   "execution_count": 1,
   "metadata": {},
   "outputs": [],
   "source": [
    "# NOTA: Se debe ejecutar el archivo Grupo6_TP2_data_cleaning para generar el archivo df_caba.csv\n",
    "\n",
    "\n",
    "#importar librerias \n",
    "import numpy as np\n",
    "import pandas as pd\n",
    "import geopandas as gpd\n",
    "import matplotlib.pyplot as plt\n",
    "import seaborn as sns\n",
    "import plotly.express as px\n",
    "import missingno as msno\n",
    "import pandas as pd\n",
    "from sklearn.preprocessing import StandardScaler\n",
    "from sklearn.model_selection import train_test_split\n",
    "from sklearn.metrics import mean_squared_error\n",
    "from sklearn.metrics import r2_score\n",
    "import statsmodels.api as sm\n",
    "\n",
    "\n"
   ]
  },
  {
   "cell_type": "code",
   "execution_count": 2,
   "metadata": {},
   "outputs": [
    {
     "data": {
      "text/html": [
       "<div>\n",
       "<style scoped>\n",
       "    .dataframe tbody tr th:only-of-type {\n",
       "        vertical-align: middle;\n",
       "    }\n",
       "\n",
       "    .dataframe tbody tr th {\n",
       "        vertical-align: top;\n",
       "    }\n",
       "\n",
       "    .dataframe thead th {\n",
       "        text-align: right;\n",
       "    }\n",
       "</style>\n",
       "<table border=\"1\" class=\"dataframe\">\n",
       "  <thead>\n",
       "    <tr style=\"text-align: right;\">\n",
       "      <th></th>\n",
       "      <th>Unnamed: 0</th>\n",
       "      <th>surface_total_in_m2</th>\n",
       "      <th>surface_covered_in_m2</th>\n",
       "      <th>price</th>\n",
       "      <th>lat</th>\n",
       "      <th>lon</th>\n",
       "      <th>rooms_1 room</th>\n",
       "      <th>rooms_2 room</th>\n",
       "      <th>rooms_3 rooms</th>\n",
       "      <th>rooms_S/I</th>\n",
       "    </tr>\n",
       "  </thead>\n",
       "  <tbody>\n",
       "    <tr>\n",
       "      <th>0</th>\n",
       "      <td>19</td>\n",
       "      <td>104.0</td>\n",
       "      <td>96.0</td>\n",
       "      <td>350000.0</td>\n",
       "      <td>-34.580504</td>\n",
       "      <td>-58.405874</td>\n",
       "      <td>0</td>\n",
       "      <td>0</td>\n",
       "      <td>1</td>\n",
       "      <td>0</td>\n",
       "    </tr>\n",
       "    <tr>\n",
       "      <th>1</th>\n",
       "      <td>21</td>\n",
       "      <td>118.0</td>\n",
       "      <td>73.0</td>\n",
       "      <td>270500.0</td>\n",
       "      <td>-34.590926</td>\n",
       "      <td>-58.411665</td>\n",
       "      <td>0</td>\n",
       "      <td>0</td>\n",
       "      <td>0</td>\n",
       "      <td>0</td>\n",
       "    </tr>\n",
       "    <tr>\n",
       "      <th>2</th>\n",
       "      <td>241</td>\n",
       "      <td>39.0</td>\n",
       "      <td>35.0</td>\n",
       "      <td>147300.0</td>\n",
       "      <td>-34.588862</td>\n",
       "      <td>-58.412307</td>\n",
       "      <td>1</td>\n",
       "      <td>0</td>\n",
       "      <td>0</td>\n",
       "      <td>0</td>\n",
       "    </tr>\n",
       "    <tr>\n",
       "      <th>3</th>\n",
       "      <td>256</td>\n",
       "      <td>175.0</td>\n",
       "      <td>175.0</td>\n",
       "      <td>440000.0</td>\n",
       "      <td>-34.566479</td>\n",
       "      <td>-58.434075</td>\n",
       "      <td>0</td>\n",
       "      <td>0</td>\n",
       "      <td>0</td>\n",
       "      <td>0</td>\n",
       "    </tr>\n",
       "    <tr>\n",
       "      <th>4</th>\n",
       "      <td>266</td>\n",
       "      <td>47.0</td>\n",
       "      <td>41.0</td>\n",
       "      <td>135000.0</td>\n",
       "      <td>-34.576504</td>\n",
       "      <td>-58.431468</td>\n",
       "      <td>0</td>\n",
       "      <td>0</td>\n",
       "      <td>0</td>\n",
       "      <td>1</td>\n",
       "    </tr>\n",
       "  </tbody>\n",
       "</table>\n",
       "</div>"
      ],
      "text/plain": [
       "   Unnamed: 0  surface_total_in_m2  surface_covered_in_m2     price  \\\n",
       "0          19                104.0                   96.0  350000.0   \n",
       "1          21                118.0                   73.0  270500.0   \n",
       "2         241                 39.0                   35.0  147300.0   \n",
       "3         256                175.0                  175.0  440000.0   \n",
       "4         266                 47.0                   41.0  135000.0   \n",
       "\n",
       "         lat        lon  rooms_1 room  rooms_2 room  rooms_3 rooms  rooms_S/I  \n",
       "0 -34.580504 -58.405874             0             0              1          0  \n",
       "1 -34.590926 -58.411665             0             0              0          0  \n",
       "2 -34.588862 -58.412307             1             0              0          0  \n",
       "3 -34.566479 -58.434075             0             0              0          0  \n",
       "4 -34.576504 -58.431468             0             0              0          1  "
      ]
     },
     "execution_count": 2,
     "metadata": {},
     "output_type": "execute_result"
    }
   ],
   "source": [
    "#lectura de dataframe\n",
    "df_caba = pd.read_csv(\"df_caba.csv\")\n",
    "df_caba.head()"
   ]
  },
  {
   "cell_type": "markdown",
   "metadata": {},
   "source": [
    "# Evaluamos el Primer Modelo"
   ]
  },
  {
   "cell_type": "code",
   "execution_count": 3,
   "metadata": {},
   "outputs": [],
   "source": [
    "\n",
    "X_1 = df_caba.drop(columns = ['price'])\n",
    "y_1 = df_caba['price']\n",
    "\n",
    "\n",
    "Xtrain_1, Xtest_1, ytrain_1, ytest_1 = train_test_split(X_1, y_1, random_state=123)\n",
    "scaler = StandardScaler()\n",
    "\n",
    "Xtrain_1 = scaler.fit_transform(Xtrain_1)\n",
    "Xtest_1 = scaler.transform(Xtest_1)\n",
    "\n",
    "\n",
    "# Tenemos que agregar explícitamente a una constante:\n",
    "Xtrain_1 = sm.add_constant(Xtrain_1)\n",
    "Xtest_1 = sm.add_constant(Xtest_1)"
   ]
  },
  {
   "cell_type": "code",
   "execution_count": 4,
   "metadata": {},
   "outputs": [
    {
     "data": {
      "text/html": [
       "<table class=\"simpletable\">\n",
       "<caption>OLS Regression Results</caption>\n",
       "<tr>\n",
       "  <th>Dep. Variable:</th>          <td>price</td>      <th>  R-squared:         </th> <td>   0.286</td> \n",
       "</tr>\n",
       "<tr>\n",
       "  <th>Model:</th>                   <td>OLS</td>       <th>  Adj. R-squared:    </th> <td>   0.281</td> \n",
       "</tr>\n",
       "<tr>\n",
       "  <th>Method:</th>             <td>Least Squares</td>  <th>  F-statistic:       </th> <td>   56.26</td> \n",
       "</tr>\n",
       "<tr>\n",
       "  <th>Date:</th>             <td>Sun, 04 Dec 2022</td> <th>  Prob (F-statistic):</th> <td>2.37e-86</td> \n",
       "</tr>\n",
       "<tr>\n",
       "  <th>Time:</th>                 <td>19:39:32</td>     <th>  Log-Likelihood:    </th> <td> -18890.</td> \n",
       "</tr>\n",
       "<tr>\n",
       "  <th>No. Observations:</th>      <td>  1274</td>      <th>  AIC:               </th> <td>3.780e+04</td>\n",
       "</tr>\n",
       "<tr>\n",
       "  <th>Df Residuals:</th>          <td>  1264</td>      <th>  BIC:               </th> <td>3.785e+04</td>\n",
       "</tr>\n",
       "<tr>\n",
       "  <th>Df Model:</th>              <td>     9</td>      <th>                     </th>     <td> </td>    \n",
       "</tr>\n",
       "<tr>\n",
       "  <th>Covariance Type:</th>      <td>nonrobust</td>    <th>                     </th>     <td> </td>    \n",
       "</tr>\n",
       "</table>\n",
       "<table class=\"simpletable\">\n",
       "<tr>\n",
       "    <td></td>       <th>coef</th>     <th>std err</th>      <th>t</th>      <th>P>|t|</th>  <th>[0.025</th>    <th>0.975]</th>  \n",
       "</tr>\n",
       "<tr>\n",
       "  <th>const</th> <td> 4.446e+05</td> <td> 1.87e+04</td> <td>   23.756</td> <td> 0.000</td> <td> 4.08e+05</td> <td> 4.81e+05</td>\n",
       "</tr>\n",
       "<tr>\n",
       "  <th>x1</th>    <td> 6.969e+04</td> <td>  2.2e+04</td> <td>    3.173</td> <td> 0.002</td> <td> 2.66e+04</td> <td> 1.13e+05</td>\n",
       "</tr>\n",
       "<tr>\n",
       "  <th>x2</th>    <td> 2.192e+05</td> <td> 6.19e+04</td> <td>    3.542</td> <td> 0.000</td> <td> 9.78e+04</td> <td> 3.41e+05</td>\n",
       "</tr>\n",
       "<tr>\n",
       "  <th>x3</th>    <td> 2.017e+05</td> <td>  6.3e+04</td> <td>    3.201</td> <td> 0.001</td> <td> 7.81e+04</td> <td> 3.25e+05</td>\n",
       "</tr>\n",
       "<tr>\n",
       "  <th>x4</th>    <td> 4.552e+04</td> <td> 2.13e+04</td> <td>    2.136</td> <td> 0.033</td> <td> 3703.775</td> <td> 8.73e+04</td>\n",
       "</tr>\n",
       "<tr>\n",
       "  <th>x5</th>    <td> 3.112e+04</td> <td> 2.17e+04</td> <td>    1.432</td> <td> 0.152</td> <td>-1.15e+04</td> <td> 7.37e+04</td>\n",
       "</tr>\n",
       "<tr>\n",
       "  <th>x6</th>    <td>  5.16e+04</td> <td> 2.71e+04</td> <td>    1.904</td> <td> 0.057</td> <td>-1572.387</td> <td> 1.05e+05</td>\n",
       "</tr>\n",
       "<tr>\n",
       "  <th>x7</th>    <td> 9366.7994</td> <td> 2.79e+04</td> <td>    0.336</td> <td> 0.737</td> <td>-4.53e+04</td> <td> 6.41e+04</td>\n",
       "</tr>\n",
       "<tr>\n",
       "  <th>x8</th>    <td>-2.464e+04</td> <td> 2.54e+04</td> <td>   -0.970</td> <td> 0.332</td> <td>-7.45e+04</td> <td> 2.52e+04</td>\n",
       "</tr>\n",
       "<tr>\n",
       "  <th>x9</th>    <td>-2027.4030</td> <td> 3.33e+04</td> <td>   -0.061</td> <td> 0.951</td> <td>-6.73e+04</td> <td> 6.32e+04</td>\n",
       "</tr>\n",
       "</table>\n",
       "<table class=\"simpletable\">\n",
       "<tr>\n",
       "  <th>Omnibus:</th>       <td>1521.420</td> <th>  Durbin-Watson:     </th>  <td>   1.965</td> \n",
       "</tr>\n",
       "<tr>\n",
       "  <th>Prob(Omnibus):</th>  <td> 0.000</td>  <th>  Jarque-Bera (JB):  </th> <td>123195.894</td>\n",
       "</tr>\n",
       "<tr>\n",
       "  <th>Skew:</th>           <td> 6.272</td>  <th>  Prob(JB):          </th>  <td>    0.00</td> \n",
       "</tr>\n",
       "<tr>\n",
       "  <th>Kurtosis:</th>       <td>49.513</td>  <th>  Cond. No.          </th>  <td>    7.01</td> \n",
       "</tr>\n",
       "</table><br/><br/>Notes:<br/>[1] Standard Errors assume that the covariance matrix of the errors is correctly specified."
      ],
      "text/plain": [
       "<class 'statsmodels.iolib.summary.Summary'>\n",
       "\"\"\"\n",
       "                            OLS Regression Results                            \n",
       "==============================================================================\n",
       "Dep. Variable:                  price   R-squared:                       0.286\n",
       "Model:                            OLS   Adj. R-squared:                  0.281\n",
       "Method:                 Least Squares   F-statistic:                     56.26\n",
       "Date:                Sun, 04 Dec 2022   Prob (F-statistic):           2.37e-86\n",
       "Time:                        19:39:32   Log-Likelihood:                -18890.\n",
       "No. Observations:                1274   AIC:                         3.780e+04\n",
       "Df Residuals:                    1264   BIC:                         3.785e+04\n",
       "Df Model:                           9                                         \n",
       "Covariance Type:            nonrobust                                         \n",
       "==============================================================================\n",
       "                 coef    std err          t      P>|t|      [0.025      0.975]\n",
       "------------------------------------------------------------------------------\n",
       "const       4.446e+05   1.87e+04     23.756      0.000    4.08e+05    4.81e+05\n",
       "x1          6.969e+04    2.2e+04      3.173      0.002    2.66e+04    1.13e+05\n",
       "x2          2.192e+05   6.19e+04      3.542      0.000    9.78e+04    3.41e+05\n",
       "x3          2.017e+05    6.3e+04      3.201      0.001    7.81e+04    3.25e+05\n",
       "x4          4.552e+04   2.13e+04      2.136      0.033    3703.775    8.73e+04\n",
       "x5          3.112e+04   2.17e+04      1.432      0.152   -1.15e+04    7.37e+04\n",
       "x6           5.16e+04   2.71e+04      1.904      0.057   -1572.387    1.05e+05\n",
       "x7          9366.7994   2.79e+04      0.336      0.737   -4.53e+04    6.41e+04\n",
       "x8         -2.464e+04   2.54e+04     -0.970      0.332   -7.45e+04    2.52e+04\n",
       "x9         -2027.4030   3.33e+04     -0.061      0.951   -6.73e+04    6.32e+04\n",
       "==============================================================================\n",
       "Omnibus:                     1521.420   Durbin-Watson:                   1.965\n",
       "Prob(Omnibus):                  0.000   Jarque-Bera (JB):           123195.894\n",
       "Skew:                           6.272   Prob(JB):                         0.00\n",
       "Kurtosis:                      49.513   Cond. No.                         7.01\n",
       "==============================================================================\n",
       "\n",
       "Notes:\n",
       "[1] Standard Errors assume that the covariance matrix of the errors is correctly specified.\n",
       "\"\"\""
      ]
     },
     "metadata": {},
     "output_type": "display_data"
    }
   ],
   "source": [
    "# Entrenamos el modelo 1\n",
    "\n",
    "model_1 = sm.OLS(ytrain_1, Xtrain_1).fit()\n",
    "\n",
    "display(model_1.summary())"
   ]
  },
  {
   "cell_type": "markdown",
   "metadata": {},
   "source": [
    "Evaluamos el modelo #2 (con iteración)"
   ]
  },
  {
   "cell_type": "code",
   "execution_count": 5,
   "metadata": {},
   "outputs": [],
   "source": [
    "X_2 = df_caba.drop(columns = ['price',])\n",
    "X_2['surface_total_in_m2 * surface_covered_in_m2'] = X_2.surface_total_in_m2 * X_2.surface_covered_in_m2\n",
    "y_2 = df_caba['price']\n",
    "\n",
    "\n",
    "Xtrain_2, Xtest_2, ytrain_2, ytest_2 = train_test_split(X_2, y_2, random_state=123)\n",
    "scaler = StandardScaler()\n",
    "\n",
    "Xtrain_2 = scaler.fit_transform(Xtrain_2)\n",
    "Xtest_2 = scaler.transform(Xtest_2)\n",
    "\n",
    "\n",
    "# Tenemos que agregar explícitamente a una constante:\n",
    "Xtrain_2 = sm.add_constant(Xtrain_2)\n",
    "Xtest_2 = sm.add_constant(Xtest_2)"
   ]
  },
  {
   "cell_type": "code",
   "execution_count": 6,
   "metadata": {},
   "outputs": [
    {
     "data": {
      "text/html": [
       "<table class=\"simpletable\">\n",
       "<caption>OLS Regression Results</caption>\n",
       "<tr>\n",
       "  <th>Dep. Variable:</th>          <td>price</td>      <th>  R-squared:         </th> <td>   0.287</td> \n",
       "</tr>\n",
       "<tr>\n",
       "  <th>Model:</th>                   <td>OLS</td>       <th>  Adj. R-squared:    </th> <td>   0.282</td> \n",
       "</tr>\n",
       "<tr>\n",
       "  <th>Method:</th>             <td>Least Squares</td>  <th>  F-statistic:       </th> <td>   50.89</td> \n",
       "</tr>\n",
       "<tr>\n",
       "  <th>Date:</th>             <td>Sun, 04 Dec 2022</td> <th>  Prob (F-statistic):</th> <td>6.58e-86</td> \n",
       "</tr>\n",
       "<tr>\n",
       "  <th>Time:</th>                 <td>19:39:32</td>     <th>  Log-Likelihood:    </th> <td> -18889.</td> \n",
       "</tr>\n",
       "<tr>\n",
       "  <th>No. Observations:</th>      <td>  1274</td>      <th>  AIC:               </th> <td>3.780e+04</td>\n",
       "</tr>\n",
       "<tr>\n",
       "  <th>Df Residuals:</th>          <td>  1263</td>      <th>  BIC:               </th> <td>3.786e+04</td>\n",
       "</tr>\n",
       "<tr>\n",
       "  <th>Df Model:</th>              <td>    10</td>      <th>                     </th>     <td> </td>    \n",
       "</tr>\n",
       "<tr>\n",
       "  <th>Covariance Type:</th>      <td>nonrobust</td>    <th>                     </th>     <td> </td>    \n",
       "</tr>\n",
       "</table>\n",
       "<table class=\"simpletable\">\n",
       "<tr>\n",
       "    <td></td>       <th>coef</th>     <th>std err</th>      <th>t</th>      <th>P>|t|</th>  <th>[0.025</th>    <th>0.975]</th>  \n",
       "</tr>\n",
       "<tr>\n",
       "  <th>const</th> <td> 4.446e+05</td> <td> 1.87e+04</td> <td>   23.766</td> <td> 0.000</td> <td> 4.08e+05</td> <td> 4.81e+05</td>\n",
       "</tr>\n",
       "<tr>\n",
       "  <th>x1</th>    <td> 6.894e+04</td> <td>  2.2e+04</td> <td>    3.139</td> <td> 0.002</td> <td> 2.59e+04</td> <td> 1.12e+05</td>\n",
       "</tr>\n",
       "<tr>\n",
       "  <th>x2</th>    <td> 1.859e+05</td> <td>  6.6e+04</td> <td>    2.817</td> <td> 0.005</td> <td> 5.65e+04</td> <td> 3.15e+05</td>\n",
       "</tr>\n",
       "<tr>\n",
       "  <th>x3</th>    <td> 1.526e+05</td> <td> 7.16e+04</td> <td>    2.133</td> <td> 0.033</td> <td> 1.22e+04</td> <td> 2.93e+05</td>\n",
       "</tr>\n",
       "<tr>\n",
       "  <th>x4</th>    <td> 4.885e+04</td> <td> 2.14e+04</td> <td>    2.279</td> <td> 0.023</td> <td> 6803.181</td> <td> 9.09e+04</td>\n",
       "</tr>\n",
       "<tr>\n",
       "  <th>x5</th>    <td> 3.497e+04</td> <td> 2.19e+04</td> <td>    1.598</td> <td> 0.110</td> <td>-7960.588</td> <td> 7.79e+04</td>\n",
       "</tr>\n",
       "<tr>\n",
       "  <th>x6</th>    <td> 3.818e+04</td> <td> 2.86e+04</td> <td>    1.333</td> <td> 0.183</td> <td> -1.8e+04</td> <td> 9.44e+04</td>\n",
       "</tr>\n",
       "<tr>\n",
       "  <th>x7</th>    <td>-1691.5553</td> <td> 2.89e+04</td> <td>   -0.059</td> <td> 0.953</td> <td>-5.84e+04</td> <td>  5.5e+04</td>\n",
       "</tr>\n",
       "<tr>\n",
       "  <th>x8</th>    <td>-2.782e+04</td> <td> 2.55e+04</td> <td>   -1.091</td> <td> 0.275</td> <td>-7.78e+04</td> <td> 2.22e+04</td>\n",
       "</tr>\n",
       "<tr>\n",
       "  <th>x9</th>    <td>-1.144e+04</td> <td> 3.39e+04</td> <td>   -0.338</td> <td> 0.736</td> <td>-7.79e+04</td> <td>  5.5e+04</td>\n",
       "</tr>\n",
       "<tr>\n",
       "  <th>x10</th>   <td> 7.821e+04</td> <td> 5.42e+04</td> <td>    1.444</td> <td> 0.149</td> <td> -2.8e+04</td> <td> 1.84e+05</td>\n",
       "</tr>\n",
       "</table>\n",
       "<table class=\"simpletable\">\n",
       "<tr>\n",
       "  <th>Omnibus:</th>       <td>1520.449</td> <th>  Durbin-Watson:     </th>  <td>   1.963</td> \n",
       "</tr>\n",
       "<tr>\n",
       "  <th>Prob(Omnibus):</th>  <td> 0.000</td>  <th>  Jarque-Bera (JB):  </th> <td>124221.308</td>\n",
       "</tr>\n",
       "<tr>\n",
       "  <th>Skew:</th>           <td> 6.260</td>  <th>  Prob(JB):          </th>  <td>    0.00</td> \n",
       "</tr>\n",
       "<tr>\n",
       "  <th>Kurtosis:</th>       <td>49.727</td>  <th>  Cond. No.          </th>  <td>    8.30</td> \n",
       "</tr>\n",
       "</table><br/><br/>Notes:<br/>[1] Standard Errors assume that the covariance matrix of the errors is correctly specified."
      ],
      "text/plain": [
       "<class 'statsmodels.iolib.summary.Summary'>\n",
       "\"\"\"\n",
       "                            OLS Regression Results                            \n",
       "==============================================================================\n",
       "Dep. Variable:                  price   R-squared:                       0.287\n",
       "Model:                            OLS   Adj. R-squared:                  0.282\n",
       "Method:                 Least Squares   F-statistic:                     50.89\n",
       "Date:                Sun, 04 Dec 2022   Prob (F-statistic):           6.58e-86\n",
       "Time:                        19:39:32   Log-Likelihood:                -18889.\n",
       "No. Observations:                1274   AIC:                         3.780e+04\n",
       "Df Residuals:                    1263   BIC:                         3.786e+04\n",
       "Df Model:                          10                                         \n",
       "Covariance Type:            nonrobust                                         \n",
       "==============================================================================\n",
       "                 coef    std err          t      P>|t|      [0.025      0.975]\n",
       "------------------------------------------------------------------------------\n",
       "const       4.446e+05   1.87e+04     23.766      0.000    4.08e+05    4.81e+05\n",
       "x1          6.894e+04    2.2e+04      3.139      0.002    2.59e+04    1.12e+05\n",
       "x2          1.859e+05    6.6e+04      2.817      0.005    5.65e+04    3.15e+05\n",
       "x3          1.526e+05   7.16e+04      2.133      0.033    1.22e+04    2.93e+05\n",
       "x4          4.885e+04   2.14e+04      2.279      0.023    6803.181    9.09e+04\n",
       "x5          3.497e+04   2.19e+04      1.598      0.110   -7960.588    7.79e+04\n",
       "x6          3.818e+04   2.86e+04      1.333      0.183    -1.8e+04    9.44e+04\n",
       "x7         -1691.5553   2.89e+04     -0.059      0.953   -5.84e+04     5.5e+04\n",
       "x8         -2.782e+04   2.55e+04     -1.091      0.275   -7.78e+04    2.22e+04\n",
       "x9         -1.144e+04   3.39e+04     -0.338      0.736   -7.79e+04     5.5e+04\n",
       "x10         7.821e+04   5.42e+04      1.444      0.149    -2.8e+04    1.84e+05\n",
       "==============================================================================\n",
       "Omnibus:                     1520.449   Durbin-Watson:                   1.963\n",
       "Prob(Omnibus):                  0.000   Jarque-Bera (JB):           124221.308\n",
       "Skew:                           6.260   Prob(JB):                         0.00\n",
       "Kurtosis:                      49.727   Cond. No.                         8.30\n",
       "==============================================================================\n",
       "\n",
       "Notes:\n",
       "[1] Standard Errors assume that the covariance matrix of the errors is correctly specified.\n",
       "\"\"\""
      ]
     },
     "metadata": {},
     "output_type": "display_data"
    }
   ],
   "source": [
    "# Entrenamos el modelo 2 (con interaccion)\n",
    "\n",
    "model_2 = sm.OLS(ytrain_2, Xtrain_2).fit()\n",
    "\n",
    "display(model_2.summary())"
   ]
  },
  {
   "cell_type": "code",
   "execution_count": 7,
   "metadata": {},
   "outputs": [],
   "source": [
    "# Tercer Modelo\n",
    "# Eliminamos las columnas con baja correlacion"
   ]
  },
  {
   "cell_type": "code",
   "execution_count": 8,
   "metadata": {},
   "outputs": [
    {
     "data": {
      "text/plain": [
       "Unnamed: 0              -0.01\n",
       "surface_total_in_m2      0.54\n",
       "surface_covered_in_m2    0.54\n",
       "price                    1.00\n",
       "lat                      0.17\n",
       "lon                      0.16\n",
       "rooms_1 room            -0.09\n",
       "rooms_2 room            -0.12\n",
       "rooms_3 rooms           -0.06\n",
       "rooms_S/I               -0.06\n",
       "Name: price, dtype: float64"
      ]
     },
     "execution_count": 8,
     "metadata": {},
     "output_type": "execute_result"
    }
   ],
   "source": [
    "# calculamos la matriz de correlacion y vemos que la menor correlacion la tenemos con surface_total_in_m2 y surface_covered_in_m2\n",
    "\n",
    "np.round(df_caba.corr(),2)['price']"
   ]
  },
  {
   "cell_type": "code",
   "execution_count": 9,
   "metadata": {},
   "outputs": [
    {
     "data": {
      "text/plain": [
       "<AxesSubplot:>"
      ]
     },
     "execution_count": 9,
     "metadata": {},
     "output_type": "execute_result"
    },
    {
     "data": {
      "image/png": "[encoded data removed]",
      "text/plain": [
       "<Figure size 640x480 with 2 Axes>"
      ]
     },
     "metadata": {},
     "output_type": "display_data"
    }
   ],
   "source": [
    "# Podemos ver a continuacion la matriz de correlacion representada como mapa de calor:\n",
    "\n",
    "sns.heatmap(df_caba.corr())\n"
   ]
  },
  {
   "cell_type": "code",
   "execution_count": 10,
   "metadata": {},
   "outputs": [],
   "source": [
    "X_3 = df_caba[['surface_total_in_m2', 'surface_covered_in_m2' ]]\n",
    "y_3 = df_caba['price']\n",
    "\n",
    "\n",
    "Xtrain_3, Xtest_3, ytrain_3, ytest_3 = train_test_split(X_3, y_3, random_state=123)\n",
    "scaler = StandardScaler()\n",
    "\n",
    "Xtrain_3 = scaler.fit_transform(Xtrain_3)\n",
    "Xtest_3 = scaler.transform(Xtest_3)\n",
    "\n",
    "\n",
    "# Tenemos que agregar explícitamente a una constante:\n",
    "Xtrain_3 = sm.add_constant(Xtrain_3)\n",
    "Xtest_3 = sm.add_constant(Xtest_3)"
   ]
  },
  {
   "cell_type": "code",
   "execution_count": 11,
   "metadata": {},
   "outputs": [
    {
     "data": {
      "text/html": [
       "<table class=\"simpletable\">\n",
       "<caption>OLS Regression Results</caption>\n",
       "<tr>\n",
       "  <th>Dep. Variable:</th>          <td>price</td>      <th>  R-squared:         </th> <td>   0.273</td> \n",
       "</tr>\n",
       "<tr>\n",
       "  <th>Model:</th>                   <td>OLS</td>       <th>  Adj. R-squared:    </th> <td>   0.272</td> \n",
       "</tr>\n",
       "<tr>\n",
       "  <th>Method:</th>             <td>Least Squares</td>  <th>  F-statistic:       </th> <td>   238.6</td> \n",
       "</tr>\n",
       "<tr>\n",
       "  <th>Date:</th>             <td>Sun, 04 Dec 2022</td> <th>  Prob (F-statistic):</th> <td>1.01e-88</td> \n",
       "</tr>\n",
       "<tr>\n",
       "  <th>Time:</th>                 <td>19:39:32</td>     <th>  Log-Likelihood:    </th> <td> -18901.</td> \n",
       "</tr>\n",
       "<tr>\n",
       "  <th>No. Observations:</th>      <td>  1274</td>      <th>  AIC:               </th> <td>3.781e+04</td>\n",
       "</tr>\n",
       "<tr>\n",
       "  <th>Df Residuals:</th>          <td>  1271</td>      <th>  BIC:               </th> <td>3.782e+04</td>\n",
       "</tr>\n",
       "<tr>\n",
       "  <th>Df Model:</th>              <td>     2</td>      <th>                     </th>     <td> </td>    \n",
       "</tr>\n",
       "<tr>\n",
       "  <th>Covariance Type:</th>      <td>nonrobust</td>    <th>                     </th>     <td> </td>    \n",
       "</tr>\n",
       "</table>\n",
       "<table class=\"simpletable\">\n",
       "<tr>\n",
       "    <td></td>       <th>coef</th>     <th>std err</th>      <th>t</th>      <th>P>|t|</th>  <th>[0.025</th>    <th>0.975]</th>  \n",
       "</tr>\n",
       "<tr>\n",
       "  <th>const</th> <td> 4.446e+05</td> <td> 1.88e+04</td> <td>   23.608</td> <td> 0.000</td> <td> 4.08e+05</td> <td> 4.82e+05</td>\n",
       "</tr>\n",
       "<tr>\n",
       "  <th>x1</th>    <td>  2.05e+05</td> <td> 6.19e+04</td> <td>    3.311</td> <td> 0.001</td> <td> 8.35e+04</td> <td> 3.27e+05</td>\n",
       "</tr>\n",
       "<tr>\n",
       "  <th>x2</th>    <td> 2.114e+05</td> <td> 6.19e+04</td> <td>    3.413</td> <td> 0.001</td> <td> 8.99e+04</td> <td> 3.33e+05</td>\n",
       "</tr>\n",
       "</table>\n",
       "<table class=\"simpletable\">\n",
       "<tr>\n",
       "  <th>Omnibus:</th>       <td>1535.790</td> <th>  Durbin-Watson:     </th>  <td>   1.961</td> \n",
       "</tr>\n",
       "<tr>\n",
       "  <th>Prob(Omnibus):</th>  <td> 0.000</td>  <th>  Jarque-Bera (JB):  </th> <td>126881.507</td>\n",
       "</tr>\n",
       "<tr>\n",
       "  <th>Skew:</th>           <td> 6.372</td>  <th>  Prob(JB):          </th>  <td>    0.00</td> \n",
       "</tr>\n",
       "<tr>\n",
       "  <th>Kurtosis:</th>       <td>50.200</td>  <th>  Cond. No.          </th>  <td>    6.42</td> \n",
       "</tr>\n",
       "</table><br/><br/>Notes:<br/>[1] Standard Errors assume that the covariance matrix of the errors is correctly specified."
      ],
      "text/plain": [
       "<class 'statsmodels.iolib.summary.Summary'>\n",
       "\"\"\"\n",
       "                            OLS Regression Results                            \n",
       "==============================================================================\n",
       "Dep. Variable:                  price   R-squared:                       0.273\n",
       "Model:                            OLS   Adj. R-squared:                  0.272\n",
       "Method:                 Least Squares   F-statistic:                     238.6\n",
       "Date:                Sun, 04 Dec 2022   Prob (F-statistic):           1.01e-88\n",
       "Time:                        19:39:32   Log-Likelihood:                -18901.\n",
       "No. Observations:                1274   AIC:                         3.781e+04\n",
       "Df Residuals:                    1271   BIC:                         3.782e+04\n",
       "Df Model:                           2                                         \n",
       "Covariance Type:            nonrobust                                         \n",
       "==============================================================================\n",
       "                 coef    std err          t      P>|t|      [0.025      0.975]\n",
       "------------------------------------------------------------------------------\n",
       "const       4.446e+05   1.88e+04     23.608      0.000    4.08e+05    4.82e+05\n",
       "x1           2.05e+05   6.19e+04      3.311      0.001    8.35e+04    3.27e+05\n",
       "x2          2.114e+05   6.19e+04      3.413      0.001    8.99e+04    3.33e+05\n",
       "==============================================================================\n",
       "Omnibus:                     1535.790   Durbin-Watson:                   1.961\n",
       "Prob(Omnibus):                  0.000   Jarque-Bera (JB):           126881.507\n",
       "Skew:                           6.372   Prob(JB):                         0.00\n",
       "Kurtosis:                      50.200   Cond. No.                         6.42\n",
       "==============================================================================\n",
       "\n",
       "Notes:\n",
       "[1] Standard Errors assume that the covariance matrix of the errors is correctly specified.\n",
       "\"\"\""
      ]
     },
     "metadata": {},
     "output_type": "display_data"
    }
   ],
   "source": [
    "# Entrenamos el modelo 2 (con interaccion)\n",
    "\n",
    "model_3 = sm.OLS(ytrain_3, Xtrain_3).fit()\n",
    "\n",
    "display(model_3.summary())"
   ]
  },
  {
   "cell_type": "code",
   "execution_count": 12,
   "metadata": {},
   "outputs": [
    {
     "name": "stdout",
     "output_type": "stream",
     "text": [
      "Error cuadrático medio modelo 1: 94333630979.22\n",
      "Puntaje de varianza modelo 1: 0.52\n"
     ]
    }
   ],
   "source": [
    "ypred_1 = model_1.predict(Xtest_1)\n",
    "\n",
    "# Error cuadrático medio modelo 1\n",
    "print(\"Error cuadrático medio modelo 1: %.2f\" % mean_squared_error(ytest_1, ypred_1))\n",
    "# Evaluamos el puntaje de varianza (siendo 1.0 el mejor posible)\n",
    "print('Puntaje de varianza modelo 1: %.2f' % r2_score(ytest_1, ypred_1))\n"
   ]
  },
  {
   "cell_type": "code",
   "execution_count": 13,
   "metadata": {},
   "outputs": [
    {
     "name": "stdout",
     "output_type": "stream",
     "text": [
      "Error cuadrático medio modelo 2: 92194302157.35\n",
      "Puntaje de varianza modelo 2: 0.53\n"
     ]
    }
   ],
   "source": [
    "ypred_2 = model_2.predict(Xtest_2)\n",
    "\n",
    "# Error cuadrático medio modelo 2\n",
    "print(\"Error cuadrático medio modelo 2: %.2f\" % mean_squared_error(ytest_2, ypred_2))\n",
    "# Evaluamos el puntaje de varianza (siendo 1.0 el mejor posible)\n",
    "print('Puntaje de varianza modelo 2: %.2f' % r2_score(ytest_2, ypred_2))"
   ]
  },
  {
   "cell_type": "code",
   "execution_count": 14,
   "metadata": {},
   "outputs": [
    {
     "name": "stdout",
     "output_type": "stream",
     "text": [
      "Error cuadrático medio modelo 3: 93073271174.76\n",
      "Puntaje de varianza modelo 3: 0.52\n"
     ]
    }
   ],
   "source": [
    "ypred_3 = model_3.predict(Xtest_3)\n",
    "\n",
    "# Error cuadrático medio modelo 3\n",
    "print(\"Error cuadrático medio modelo 3: %.2f\" % mean_squared_error(ytest_3, ypred_3))\n",
    "# Evaluamos el puntaje de varianza (siendo 1.0 el mejor posible)\n",
    "print('Puntaje de varianza modelo 3: %.2f' % r2_score(ytest_3, ypred_3))"
   ]
  }
 ],
 "metadata": {
  "kernelspec": {
   "display_name": "Python 3.8.13 ('dhdsblend2021')",
   "language": "python",
   "name": "python3"
  },
  "language_info": {
   "codemirror_mode": {
    "name": "ipython",
    "version": 3
   },
   "file_extension": ".py",
   "mimetype": "text/x-python",
   "name": "python",
   "nbconvert_exporter": "python",
   "pygments_lexer": "ipython3",
   "version": "3.8.13"
  },
  "orig_nbformat": 4,
  "vscode": {
   "interpreter": {
    "hash": "57b5820bf69912cd4a73e9f9ed5458e0e1979c15b4cea3cec38fe13399c37eef"
   }
  }
 },
 "nbformat": 4,
 "nbformat_minor": 2
}
